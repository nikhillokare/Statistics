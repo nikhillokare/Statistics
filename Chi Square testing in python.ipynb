{
 "cells": [
  {
   "cell_type": "code",
   "execution_count": 1,
   "id": "360391d0-4bf2-40be-b409-8754329983f6",
   "metadata": {},
   "outputs": [],
   "source": [
    "import scipy.stats as stats\n",
    "import numpy as np"
   ]
  },
  {
   "cell_type": "code",
   "execution_count": 2,
   "id": "b3465681-44fe-46d5-a381-9c1b5d0ea03a",
   "metadata": {},
   "outputs": [],
   "source": [
    "# no of hours std in a weekly bases daily"
   ]
  },
  {
   "cell_type": "code",
   "execution_count": 9,
   "id": "b28990a1-dc42-4c76-96c0-7374d2e42dc5",
   "metadata": {},
   "outputs": [],
   "source": [
    "exp_data = [8,6,7,9,6,9,7]\n",
    "obs_data = [7,8,6,9,9,6,7]"
   ]
  },
  {
   "cell_type": "code",
   "execution_count": 10,
   "id": "1136845e-f6dc-477f-8cc3-726e008bb60b",
   "metadata": {},
   "outputs": [
    {
     "data": {
      "text/plain": [
       "(52, 52)"
      ]
     },
     "execution_count": 10,
     "metadata": {},
     "output_type": "execute_result"
    }
   ],
   "source": [
    "sum(exp_data),sum(obs_data)"
   ]
  },
  {
   "cell_type": "code",
   "execution_count": 5,
   "id": "3d2339ef-502e-422f-a28d-7de11ee0042f",
   "metadata": {},
   "outputs": [],
   "source": [
    "# chi square goodness of fitness"
   ]
  },
  {
   "cell_type": "code",
   "execution_count": 11,
   "id": "e09a8e35-28eb-4eda-84ec-99d1112b3205",
   "metadata": {},
   "outputs": [],
   "source": [
    "d = stats.chisquare(obs_data,exp_data)"
   ]
  },
  {
   "cell_type": "code",
   "execution_count": 12,
   "id": "1a5e32dc-0703-4609-ad3a-1700946c49eb",
   "metadata": {},
   "outputs": [
    {
     "data": {
      "text/plain": [
       "Power_divergenceResult(statistic=3.4345238095238093, pvalue=0.7526596580922865)"
      ]
     },
     "execution_count": 12,
     "metadata": {},
     "output_type": "execute_result"
    }
   ],
   "source": [
    "d"
   ]
  },
  {
   "cell_type": "code",
   "execution_count": 17,
   "id": "b0e1a974-e705-4b5a-9907-48585e2a89fe",
   "metadata": {},
   "outputs": [
    {
     "name": "stdout",
     "output_type": "stream",
     "text": [
      "6\n"
     ]
    }
   ],
   "source": [
    "c = 0.05\n",
    "gof=len(exp_data)-1\n",
    "print(gof)\n",
    "critical = stats.chi2.ppf(1-c,gof)"
   ]
  },
  {
   "cell_type": "code",
   "execution_count": 21,
   "id": "3bb2b09b-bbf6-47ea-9b07-270a41d3c30b",
   "metadata": {},
   "outputs": [
    {
     "name": "stdout",
     "output_type": "stream",
     "text": [
      "accept null hypothesis\n"
     ]
    }
   ],
   "source": [
    "if c > critical:\n",
    "    print('we reject the null hypothesis')\n",
    "else:\n",
    "    print('accept null hypothesis')\n",
    "        "
   ]
  },
  {
   "cell_type": "code",
   "execution_count": null,
   "id": "f2cfd019-bc09-4e32-a94a-42c747642ac1",
   "metadata": {},
   "outputs": [],
   "source": []
  }
 ],
 "metadata": {
  "kernelspec": {
   "display_name": "Python 3 (ipykernel)",
   "language": "python",
   "name": "python3"
  },
  "language_info": {
   "codemirror_mode": {
    "name": "ipython",
    "version": 3
   },
   "file_extension": ".py",
   "mimetype": "text/x-python",
   "name": "python",
   "nbconvert_exporter": "python",
   "pygments_lexer": "ipython3",
   "version": "3.10.8"
  }
 },
 "nbformat": 4,
 "nbformat_minor": 5
}
