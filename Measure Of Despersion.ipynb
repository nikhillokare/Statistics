{
 "cells": [
  {
   "cell_type": "code",
   "execution_count": 1,
   "id": "6c6d45ef-64d8-41fc-9249-2935d740dfc3",
   "metadata": {},
   "outputs": [],
   "source": [
    "# measure of sedpersion"
   ]
  },
  {
   "cell_type": "code",
   "execution_count": 2,
   "id": "40b74082-81a7-40a0-a5ad-f2992e19c529",
   "metadata": {},
   "outputs": [],
   "source": [
    "age = [12,13,14,15,16,17,22,33,44,55,66,77,99]"
   ]
  },
  {
   "cell_type": "code",
   "execution_count": 3,
   "id": "18dec02e-3fb9-4c86-9953-4dfe81b917fb",
   "metadata": {},
   "outputs": [],
   "source": [
    "import numpy as np"
   ]
  },
  {
   "cell_type": "code",
   "execution_count": 4,
   "id": "1aa364b6-2080-4a1c-a26d-952d317bdb45",
   "metadata": {},
   "outputs": [
    {
     "data": {
      "text/plain": [
       "37.15384615384615"
      ]
     },
     "execution_count": 4,
     "metadata": {},
     "output_type": "execute_result"
    }
   ],
   "source": [
    "np.mean(age)"
   ]
  },
  {
   "cell_type": "code",
   "execution_count": 5,
   "id": "63a2e765-31e8-44c1-9025-b8626732db27",
   "metadata": {},
   "outputs": [
    {
     "data": {
      "text/plain": [
       "765.6686390532543"
      ]
     },
     "execution_count": 5,
     "metadata": {},
     "output_type": "execute_result"
    }
   ],
   "source": [
    "np.var(age)"
   ]
  },
  {
   "cell_type": "code",
   "execution_count": 6,
   "id": "d7d77a70-0322-4fd2-875b-d0d44aa806c3",
   "metadata": {},
   "outputs": [
    {
     "data": {
      "text/plain": [
       "27.67071807982681"
      ]
     },
     "execution_count": 6,
     "metadata": {},
     "output_type": "execute_result"
    }
   ],
   "source": [
    "np.std(age)"
   ]
  },
  {
   "cell_type": "code",
   "execution_count": 7,
   "id": "6fb44b88-fa35-498f-b687-7e6b794ce635",
   "metadata": {},
   "outputs": [],
   "source": [
    "import seaborn as sns"
   ]
  },
  {
   "cell_type": "code",
   "execution_count": 10,
   "id": "d0790cf0-9278-4003-bab0-83dc9953a334",
   "metadata": {},
   "outputs": [
    {
     "data": {
      "text/plain": [
       "<AxesSubplot: ylabel='Count'>"
      ]
     },
     "execution_count": 10,
     "metadata": {},
     "output_type": "execute_result"
    },
    {
     "data": {
      "image/png": "[encoded data removed]",
      "text/plain": [
       "<Figure size 640x480 with 1 Axes>"
      ]
     },
     "metadata": {},
     "output_type": "display_data"
    }
   ],
   "source": [
    "sns.histplot(age, kde = True)"
   ]
  },
  {
   "cell_type": "code",
   "execution_count": 11,
   "id": "5d4108ff-caaa-46a5-902d-22c91eebb9ac",
   "metadata": {},
   "outputs": [],
   "source": [
    "import pandas as pd"
   ]
  },
  {
   "cell_type": "code",
   "execution_count": 13,
   "id": "89d6efcb-529b-4025-b36d-a20ffdf7ea1e",
   "metadata": {},
   "outputs": [],
   "source": [
    "data = [[12,22,45],[34,35,36],[43,65,34]]"
   ]
  },
  {
   "cell_type": "code",
   "execution_count": 14,
   "id": "213a8a7b-5dac-4f36-9f23-bdfe364c125f",
   "metadata": {},
   "outputs": [
    {
     "data": {
      "text/plain": [
       "[[12, 22, 45], [34, 35, 36], [43, 65, 34]]"
      ]
     },
     "execution_count": 14,
     "metadata": {},
     "output_type": "execute_result"
    }
   ],
   "source": [
    "data"
   ]
  },
  {
   "cell_type": "code",
   "execution_count": 19,
   "id": "6eee119c-45a4-41c6-a530-776368ce30ec",
   "metadata": {},
   "outputs": [],
   "source": [
    "df = pd.DataFrame(data, columns=[\"A\",\"B\",\"C\"])"
   ]
  },
  {
   "cell_type": "code",
   "execution_count": 21,
   "id": "87b3efbb-be48-4ec5-b676-b1677d85f65c",
   "metadata": {},
   "outputs": [
    {
     "data": {
      "text/plain": [
       "A    254.333333\n",
       "B    486.333333\n",
       "C     34.333333\n",
       "dtype: float64"
      ]
     },
     "execution_count": 21,
     "metadata": {},
     "output_type": "execute_result"
    }
   ],
   "source": [
    "df.var()"
   ]
  },
  {
   "cell_type": "code",
   "execution_count": 22,
   "id": "150514db-e1ad-414c-b3f0-40f731242df5",
   "metadata": {},
   "outputs": [
    {
     "data": {
      "text/plain": [
       "0    286.333333\n",
       "1      1.000000\n",
       "2    254.333333\n",
       "dtype: float64"
      ]
     },
     "execution_count": 22,
     "metadata": {},
     "output_type": "execute_result"
    }
   ],
   "source": [
    "df.var(axis = 1)"
   ]
  },
  {
   "cell_type": "code",
   "execution_count": null,
   "id": "e8cc3127-e73e-4654-9cd4-79b4e6addd6a",
   "metadata": {},
   "outputs": [],
   "source": []
  }
 ],
 "metadata": {
  "kernelspec": {
   "display_name": "Python 3 (ipykernel)",
   "language": "python",
   "name": "python3"
  },
  "language_info": {
   "codemirror_mode": {
    "name": "ipython",
    "version": 3
   },
   "file_extension": ".py",
   "mimetype": "text/x-python",
   "name": "python",
   "nbconvert_exporter": "python",
   "pygments_lexer": "ipython3",
   "version": "3.10.8"
  }
 },
 "nbformat": 4,
 "nbformat_minor": 5
}
