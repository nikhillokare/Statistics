{
 "cells": [
  {
   "cell_type": "code",
   "execution_count": 1,
   "id": "f048da58-f117-4c98-b2dc-8fe66e631423",
   "metadata": {},
   "outputs": [],
   "source": [
    "worker1 = [1,2,3,4,5,6,7,8,9,10]\n",
    "worker2 = [10,9,8,7,6,5,4,3,2,1]"
   ]
  },
  {
   "cell_type": "code",
   "execution_count": 2,
   "id": "9a341198-0035-4794-88b6-61fd217b0735",
   "metadata": {},
   "outputs": [],
   "source": [
    "import numpy as np"
   ]
  },
  {
   "cell_type": "code",
   "execution_count": 4,
   "id": "2cb4b154-8c50-4d66-99b4-d3b6ec828c16",
   "metadata": {},
   "outputs": [],
   "source": [
    "f_test = np.var(worker1)/np.var(worker2)"
   ]
  },
  {
   "cell_type": "code",
   "execution_count": 5,
   "id": "b6f00c75-ea0e-49dd-b31c-b4562b051735",
   "metadata": {},
   "outputs": [
    {
     "data": {
      "text/plain": [
       "1.0"
      ]
     },
     "execution_count": 5,
     "metadata": {},
     "output_type": "execute_result"
    }
   ],
   "source": [
    "f_test"
   ]
  },
  {
   "cell_type": "code",
   "execution_count": 8,
   "id": "d3adefbc-3ae8-4f9e-b5e2-d66097ddfcb8",
   "metadata": {},
   "outputs": [],
   "source": [
    "df1 = len(worker1)-1\n",
    "df2 = len(worker2)-1\n",
    "significance_value = 0.05"
   ]
  },
  {
   "cell_type": "code",
   "execution_count": 9,
   "id": "7187add9-cea5-4d37-a6e8-227fd9660bea",
   "metadata": {},
   "outputs": [],
   "source": [
    "import scipy.stats as stats"
   ]
  },
  {
   "cell_type": "code",
   "execution_count": 12,
   "id": "39eb21d4-70fd-4f2a-82d8-7fc176a50654",
   "metadata": {},
   "outputs": [],
   "source": [
    "critical_value = stats.f.ppf(q = 1 - significance_value,dfn = df1,dfd = df2)"
   ]
  },
  {
   "cell_type": "code",
   "execution_count": 13,
   "id": "cdd87540-cf70-4fc6-af3b-174b28cc6c92",
   "metadata": {},
   "outputs": [
    {
     "data": {
      "text/plain": [
       "3.178893104458269"
      ]
     },
     "execution_count": 13,
     "metadata": {},
     "output_type": "execute_result"
    }
   ],
   "source": [
    "critical_value"
   ]
  },
  {
   "cell_type": "code",
   "execution_count": 14,
   "id": "03a85770-ac78-4f3d-ae10-1e6caf39f5f1",
   "metadata": {},
   "outputs": [
    {
     "name": "stdout",
     "output_type": "stream",
     "text": [
      "fail to reject the null hypothesis\n"
     ]
    }
   ],
   "source": [
    "if f_test > critical_value:\n",
    "    print('reject the null hypothesis')\n",
    "else:\n",
    "    print('fail to reject the null hypothesis')"
   ]
  },
  {
   "cell_type": "code",
   "execution_count": null,
   "id": "12e149cd-7e4c-4a8a-9458-136814dee008",
   "metadata": {},
   "outputs": [],
   "source": []
  }
 ],
 "metadata": {
  "kernelspec": {
   "display_name": "Python 3 (ipykernel)",
   "language": "python",
   "name": "python3"
  },
  "language_info": {
   "codemirror_mode": {
    "name": "ipython",
    "version": 3
   },
   "file_extension": ".py",
   "mimetype": "text/x-python",
   "name": "python",
   "nbconvert_exporter": "python",
   "pygments_lexer": "ipython3",
   "version": "3.10.8"
  }
 },
 "nbformat": 4,
 "nbformat_minor": 5
}
